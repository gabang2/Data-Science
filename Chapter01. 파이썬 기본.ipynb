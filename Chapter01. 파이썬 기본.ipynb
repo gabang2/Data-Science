{
 "cells": [
  {
   "cell_type": "markdown",
   "metadata": {},
   "source": [
    "# 1.1. 파이썬 모듈"
   ]
  },
  {
   "cell_type": "code",
   "execution_count": 8,
   "metadata": {},
   "outputs": [
    {
     "data": {
      "text/plain": [
       "sys.version_info(major=3, minor=9, micro=7, releaselevel='final', serial=0)"
      ]
     },
     "execution_count": 8,
     "metadata": {},
     "output_type": "execute_result"
    }
   ],
   "source": [
    "# system module\n",
    "import sys\n",
    "sys.version_info"
   ]
  },
  {
   "cell_type": "code",
   "execution_count": 9,
   "metadata": {},
   "outputs": [],
   "source": [
    "# numpy & pandas module\n",
    "import pandas as pd\n",
    "import numpy as np\n"
   ]
  },
  {
   "cell_type": "code",
   "execution_count": 10,
   "metadata": {},
   "outputs": [],
   "source": [
    "# visualization module\n",
    "import matplotlib as mpl\n",
    "import seaborn as sns\n",
    "import pyecharts as pyc"
   ]
  },
  {
   "cell_type": "code",
   "execution_count": 11,
   "metadata": {},
   "outputs": [],
   "source": [
    "# 머신 러닝\n",
    "import sklearn as sk"
   ]
  },
  {
   "cell_type": "markdown",
   "metadata": {},
   "source": [
    "# 1.2. 파이썬 변수와 기본 문장"
   ]
  },
  {
   "cell_type": "code",
   "execution_count": 27,
   "metadata": {},
   "outputs": [
    {
     "name": "stdout",
     "output_type": "stream",
     "text": [
      "10\n",
      "happy\n"
     ]
    }
   ],
   "source": [
    "'''파이썬 변수'''\n",
    "# 전역 변수\n",
    "x=10\n",
    "s='happy'\n",
    "print(globals()['x'])\n",
    "print(globals()['s'])"
   ]
  },
  {
   "cell_type": "code",
   "execution_count": 31,
   "metadata": {},
   "outputs": [
    {
     "name": "stdout",
     "output_type": "stream",
     "text": [
      "참 입니다\n",
      "참 입니다.\n"
     ]
    }
   ],
   "source": [
    "'''제어문'''\n",
    "# 제어문 1\n",
    "if 10>5:\n",
    "    print('참 입니다')\n",
    "else:\n",
    "    print('거짓 입니다.')\n",
    "    \n",
    "# 제어문 2\n",
    "print('참 입니다.') if True else print(\"거짓 입니다.\")"
   ]
  },
  {
   "cell_type": "code",
   "execution_count": 36,
   "metadata": {},
   "outputs": [
    {
     "name": "stdout",
     "output_type": "stream",
     "text": [
      "for 순환문 결과:10\n",
      "while 순환문 결과: 10\n"
     ]
    }
   ],
   "source": [
    "'''순환문'''\n",
    "# for 순환문\n",
    "result=0\n",
    "for i in range(1, 5):\n",
    "    result+=i\n",
    "print(\"for 순환문 결과:\" + str(result))\n",
    "\n",
    "# while 순환문\n",
    "result, i=0, 1\n",
    "while i < 5:\n",
    "    result += i\n",
    "    i += 1\n",
    "print(\"while 순환문 결과: \" + str(result))"
   ]
  },
  {
   "cell_type": "markdown",
   "metadata": {},
   "source": [
    "# 1.3. 파이썬 함수"
   ]
  },
  {
   "cell_type": "code",
   "execution_count": 45,
   "metadata": {},
   "outputs": [
    {
     "name": "stdout",
     "output_type": "stream",
     "text": [
      "40\n",
      "100\n"
     ]
    }
   ],
   "source": [
    "'''함수 정의'''\n",
    "# 구조\n",
    "# 함수를 정의하면 [지역이름공간]과 [초기값 관리공간]으로 나뉘어 저장되는데, 초기 값인 x=10, y=30은 [초기값 관리공간]에 저장되고, func(20, y=80)을 쓸 때 20과 80은 [지역이름공간]에 저장된다. \n",
    "def func(x=10, y=30):\n",
    "    return x+y\n",
    "print(func())\n",
    "print(func(20, y=80))    "
   ]
  },
  {
   "cell_type": "code",
   "execution_count": 81,
   "metadata": {},
   "outputs": [
    {
     "name": "stdout",
     "output_type": "stream",
     "text": [
      "(1, 2, 3, 4, 5)\n"
     ]
    },
    {
     "data": {
      "text/plain": [
       "15"
      ]
     },
     "execution_count": 81,
     "metadata": {},
     "output_type": "execute_result"
    }
   ],
   "source": [
    "'''가변 인자'''\n",
    "def var_args(*args):\n",
    "    print(args)\n",
    "    return sum(args)\n",
    "\n",
    "var_args(1, 2, 3, 4, 5)\n",
    "\n",
    "# 선언할 때: *args\n",
    "# 사용할 때: args => 튜플 형태\n",
    "# sum()의 매개변수로, list와 tuple이 들어갈 수 있는데 tuple이 들어갔으므로 계산이 되는 상태"
   ]
  },
  {
   "cell_type": "code",
   "execution_count": 83,
   "metadata": {},
   "outputs": [
    {
     "name": "stdout",
     "output_type": "stream",
     "text": [
      "a b c d e\n",
      "{'a': 1, 'b': 2, 'c': 3, 'd': 4, 'e': 5}\n"
     ]
    },
    {
     "data": {
      "text/plain": [
       "15"
      ]
     },
     "execution_count": 83,
     "metadata": {},
     "output_type": "execute_result"
    }
   ],
   "source": [
    "'''가변 키워드 인자'''\n",
    "def var_kwargs(**kwargs):\n",
    "    print(*kwargs) # key 값 출력\n",
    "    print(kwargs) # key:value 맵핑 값 출력\n",
    "    return sum([*kwargs.values()])\n",
    "\n",
    "var_kwargs(a=1, b=2, c=3, d=4, e=5)\n",
    "# sum()의 매개변수로, list와 tuple이 들어갈 수 있는데 dictionary 형태로 값이 들어가 있으니[_dict_]로 변환해서 sum하기"
   ]
  },
  {
   "cell_type": "markdown",
   "metadata": {},
   "source": [
    "# 1.4. 파이썬 클래스와 객체"
   ]
  },
  {
   "cell_type": "code",
   "execution_count": 99,
   "metadata": {},
   "outputs": [
    {
     "name": "stdout",
     "output_type": "stream",
     "text": [
      "김가영\n",
      "김가영\n",
      "23\n",
      "최웅\n",
      "최웅\n",
      "20\n",
      "<function Klass.__init__ at 0x000001FBA2F26280>\n",
      "None\n",
      "김윤영 18\n"
     ]
    }
   ],
   "source": [
    "'''클래스 사용법'''\n",
    "# object class를 상속받은 Klass에서는 age, name을 입력받고, getName()과 getAge()메서드를 가지고 있음.\n",
    "class Klass(object):\n",
    "    \n",
    "    # init은 객체의 속성을 초기화 하는 역할임.\n",
    "    def __init__(self,age, name): # 메서드 정의(self 매개변수 사용)\n",
    "        self.name=name\n",
    "        self.age=age\n",
    "        \n",
    "    def getName(self): # 메서드 정의(self 매개변수 사용)\n",
    "        return self.name\n",
    "    \n",
    "    def getAge(self): # 메서드 정의(self 매개변수 사용)\n",
    "        return self.age\n",
    "\n",
    "# k 객체 생성   \n",
    "k=Klass(23, \"김가영\")\n",
    "print(k.name)\n",
    "print(k.getName())\n",
    "print(k.getAge())\n",
    "\n",
    "# n 객체 생성\n",
    "n=Klass(20, \"최웅\")\n",
    "print(n.name)\n",
    "print(n.getName())\n",
    "print(n.getAge())\n",
    "\n",
    "# 메서드 확인\n",
    "print(Klass.__init__)\n",
    "print(Klass.__init__(k, 18, '김윤영'))\n",
    "print(k.getName(), k.getAge())"
   ]
  },
  {
   "cell_type": "markdown",
   "metadata": {},
   "source": [
    "# 1.5. 파이썬 내장 숫자클래스"
   ]
  },
  {
   "cell_type": "code",
   "execution_count": 101,
   "metadata": {},
   "outputs": [
    {
     "name": "stdout",
     "output_type": "stream",
     "text": [
      "True\n",
      "True\n"
     ]
    }
   ],
   "source": [
    "x=1\n",
    "print(isinstance(x, int))\n",
    "y=1.1\n",
    "print(isinstance(y, float))"
   ]
  },
  {
   "cell_type": "code",
   "execution_count": 102,
   "metadata": {},
   "outputs": [
    {
     "name": "stdout",
     "output_type": "stream",
     "text": [
      "1.0\n"
     ]
    }
   ],
   "source": [
    "a=float(1)\n",
    "print(a)"
   ]
  },
  {
   "cell_type": "code",
   "execution_count": 103,
   "metadata": {},
   "outputs": [
    {
     "name": "stdout",
     "output_type": "stream",
     "text": [
      "1\n"
     ]
    }
   ],
   "source": [
    "b=int(a)\n",
    "print(b)"
   ]
  },
  {
   "cell_type": "code",
   "execution_count": 104,
   "metadata": {},
   "outputs": [
    {
     "data": {
      "text/plain": [
       "(1.1, 1)"
      ]
     },
     "execution_count": 104,
     "metadata": {},
     "output_type": "execute_result"
    }
   ],
   "source": [
    "float('1.1'), int('1')"
   ]
  },
  {
   "cell_type": "code",
   "execution_count": 108,
   "metadata": {},
   "outputs": [
    {
     "data": {
      "text/plain": [
       "False"
      ]
     },
     "execution_count": 108,
     "metadata": {},
     "output_type": "execute_result"
    }
   ],
   "source": [
    "# 문자열 내에 숫자만 존재하는지 확인\n",
    "'1.1'.isdigit()"
   ]
  },
  {
   "cell_type": "code",
   "execution_count": 110,
   "metadata": {},
   "outputs": [],
   "source": [
    "try:\n",
    "    int('11')\n",
    "except Exception as e:\n",
    "    print(e)"
   ]
  },
  {
   "cell_type": "markdown",
   "metadata": {},
   "source": [
    "# 1.6. 문자열"
   ]
  },
  {
   "cell_type": "code",
   "execution_count": 124,
   "metadata": {},
   "outputs": [],
   "source": [
    "s='happy' #유니코드 문자열\n",
    "b=b\"happy\" # 바이트 문자열은 영어와 숫자로만 구성, 쌍따옴표 앞에 b를 붙인다."
   ]
  },
  {
   "cell_type": "code",
   "execution_count": 125,
   "metadata": {},
   "outputs": [
    {
     "data": {
      "text/plain": [
       "(True, False)"
      ]
     },
     "execution_count": 125,
     "metadata": {},
     "output_type": "execute_result"
    }
   ],
   "source": [
    "isinstance(s, str), isinstance(s, bytes) #유니코드 문자열 O, 바이트 문자열 X"
   ]
  },
  {
   "cell_type": "code",
   "execution_count": 126,
   "metadata": {},
   "outputs": [
    {
     "data": {
      "text/plain": [
       "(True, False)"
      ]
     },
     "execution_count": 126,
     "metadata": {},
     "output_type": "execute_result"
    }
   ],
   "source": [
    "isinstance(b, bytes), isinstance(b, str) #유니코드 문자열 X, 바이트 문자열 O #유니코드 문자열을 암호화하면 바이트 문자열이 만들어짐\n"
   ]
  },
  {
   "cell_type": "code",
   "execution_count": 130,
   "metadata": {},
   "outputs": [
    {
     "data": {
      "text/plain": [
       "('h', 104)"
      ]
     },
     "execution_count": 130,
     "metadata": {},
     "output_type": "execute_result"
    }
   ],
   "source": [
    "s[0], b[0] # 바이트 문자열은 결과를 숫자로 반환"
   ]
  },
  {
   "cell_type": "code",
   "execution_count": 131,
   "metadata": {},
   "outputs": [
    {
     "data": {
      "text/plain": [
       "'h'"
      ]
     },
     "execution_count": 131,
     "metadata": {},
     "output_type": "execute_result"
    }
   ],
   "source": [
    "chr(b[0])"
   ]
  },
  {
   "cell_type": "code",
   "execution_count": 132,
   "metadata": {},
   "outputs": [
    {
     "data": {
      "text/plain": [
       "('y', 'y')"
      ]
     },
     "execution_count": 132,
     "metadata": {},
     "output_type": "execute_result"
    }
   ],
   "source": [
    "s[-1], chr(b[-1])"
   ]
  },
  {
   "cell_type": "code",
   "execution_count": 133,
   "metadata": {},
   "outputs": [
    {
     "name": "stdout",
     "output_type": "stream",
     "text": [
      "'str' object does not support item assignment\n"
     ]
    }
   ],
   "source": [
    "try:\n",
    "    s[0]=100\n",
    "except Exception as e:\n",
    "    print(e)"
   ]
  },
  {
   "cell_type": "code",
   "execution_count": 134,
   "metadata": {},
   "outputs": [
    {
     "name": "stdout",
     "output_type": "stream",
     "text": [
      "'bytes' object does not support item assignment\n"
     ]
    }
   ],
   "source": [
    "try:\n",
    "    b[0] = 100\n",
    "except Exception as e:\n",
    "    print(e)"
   ]
  },
  {
   "cell_type": "code",
   "execution_count": 135,
   "metadata": {},
   "outputs": [
    {
     "data": {
      "text/plain": [
       "True"
      ]
     },
     "execution_count": 135,
     "metadata": {},
     "output_type": "execute_result"
    }
   ],
   "source": [
    "bs = s.encode()\n",
    "isinstance(bs, bytes)"
   ]
  },
  {
   "cell_type": "code",
   "execution_count": 136,
   "metadata": {},
   "outputs": [
    {
     "data": {
      "text/plain": [
       "5"
      ]
     },
     "execution_count": 136,
     "metadata": {},
     "output_type": "execute_result"
    }
   ],
   "source": [
    "len(bs)"
   ]
  },
  {
   "cell_type": "code",
   "execution_count": 141,
   "metadata": {},
   "outputs": [],
   "source": [
    "bs=bs.decode()"
   ]
  },
  {
   "cell_type": "code",
   "execution_count": 142,
   "metadata": {},
   "outputs": [
    {
     "data": {
      "text/plain": [
       "True"
      ]
     },
     "execution_count": 142,
     "metadata": {},
     "output_type": "execute_result"
    }
   ],
   "source": [
    "isinstance(bs, str)"
   ]
  },
  {
   "cell_type": "markdown",
   "metadata": {},
   "source": [
    "# 1.7. 파이썬 리스트 클래스"
   ]
  },
  {
   "cell_type": "markdown",
   "metadata": {},
   "source": []
  }
 ],
 "metadata": {
  "interpreter": {
   "hash": "cfcfbbd76e88e95dc35e2ca9edf0c1e882d0553cc29bc4cac8c0f4eabeb0ecb9"
  },
  "kernelspec": {
   "display_name": "Python 3.10.1 64-bit",
   "language": "python",
   "name": "python3"
  },
  "language_info": {
   "codemirror_mode": {
    "name": "ipython",
    "version": 3
   },
   "file_extension": ".py",
   "mimetype": "text/x-python",
   "name": "python",
   "nbconvert_exporter": "python",
   "pygments_lexer": "ipython3",
   "version": "3.9.7"
  },
  "orig_nbformat": 4
 },
 "nbformat": 4,
 "nbformat_minor": 2
}
