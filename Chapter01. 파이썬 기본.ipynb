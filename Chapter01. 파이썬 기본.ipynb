{
 "cells": [
  {
   "cell_type": "markdown",
   "metadata": {},
   "source": [
    "# 1.1. 파이썬 모듈"
   ]
  },
  {
   "cell_type": "code",
   "execution_count": 8,
   "metadata": {},
   "outputs": [
    {
     "data": {
      "text/plain": [
       "sys.version_info(major=3, minor=9, micro=7, releaselevel='final', serial=0)"
      ]
     },
     "execution_count": 8,
     "metadata": {},
     "output_type": "execute_result"
    }
   ],
   "source": [
    "# system module\n",
    "import sys\n",
    "sys.version_info"
   ]
  },
  {
   "cell_type": "code",
   "execution_count": 9,
   "metadata": {},
   "outputs": [],
   "source": [
    "# numpy & pandas module\n",
    "import pandas as pd\n",
    "import numpy as np\n"
   ]
  },
  {
   "cell_type": "code",
   "execution_count": 10,
   "metadata": {},
   "outputs": [],
   "source": [
    "# visualization module\n",
    "import matplotlib as mpl\n",
    "import seaborn as sns\n",
    "import pyecharts as pyc"
   ]
  },
  {
   "cell_type": "code",
   "execution_count": 11,
   "metadata": {},
   "outputs": [],
   "source": [
    "# 머신 러닝\n",
    "import sklearn as sk"
   ]
  },
  {
   "cell_type": "markdown",
   "metadata": {},
   "source": [
    "# 1.2. 파이썬 변수와 기본 문장"
   ]
  },
  {
   "cell_type": "code",
   "execution_count": 27,
   "metadata": {},
   "outputs": [
    {
     "name": "stdout",
     "output_type": "stream",
     "text": [
      "10\n",
      "happy\n"
     ]
    }
   ],
   "source": [
    "'''파이썬 변수'''\n",
    "# 전역 변수\n",
    "x=10\n",
    "s='happy'\n",
    "print(globals()['x'])\n",
    "print(globals()['s'])"
   ]
  },
  {
   "cell_type": "code",
   "execution_count": 31,
   "metadata": {},
   "outputs": [
    {
     "name": "stdout",
     "output_type": "stream",
     "text": [
      "참 입니다\n",
      "참 입니다.\n"
     ]
    }
   ],
   "source": [
    "'''제어문'''\n",
    "# 제어문 1\n",
    "if 10>5:\n",
    "    print('참 입니다')\n",
    "else:\n",
    "    print('거짓 입니다.')\n",
    "    \n",
    "# 제어문 2\n",
    "print('참 입니다.') if True else print(\"거짓 입니다.\")"
   ]
  },
  {
   "cell_type": "code",
   "execution_count": 36,
   "metadata": {},
   "outputs": [
    {
     "name": "stdout",
     "output_type": "stream",
     "text": [
      "for 순환문 결과:10\n",
      "while 순환문 결과: 10\n"
     ]
    }
   ],
   "source": [
    "'''순환문'''\n",
    "# for 순환문\n",
    "result=0\n",
    "for i in range(1, 5):\n",
    "    result+=i\n",
    "print(\"for 순환문 결과:\" + str(result))\n",
    "\n",
    "# while 순환문\n",
    "result, i=0, 1\n",
    "while i < 5:\n",
    "    result += i\n",
    "    i += 1\n",
    "print(\"while 순환문 결과: \" + str(result))"
   ]
  },
  {
   "cell_type": "markdown",
   "metadata": {},
   "source": [
    "# 1.3. 파이썬 함수"
   ]
  },
  {
   "cell_type": "code",
   "execution_count": 45,
   "metadata": {},
   "outputs": [
    {
     "name": "stdout",
     "output_type": "stream",
     "text": [
      "40\n",
      "100\n"
     ]
    }
   ],
   "source": [
    "'''함수 정의'''\n",
    "# 구조\n",
    "# 함수를 정의하면 [지역이름공간]과 [초기값 관리공간]으로 나뉘어 저장되는데, 초기 값인 x=10, y=30은 [초기값 관리공간]에 저장되고, func(20, y=80)을 쓸 때 20과 80은 [지역이름공간]에 저장된다. \n",
    "def func(x=10, y=30):\n",
    "    return x+y\n",
    "print(func())\n",
    "print(func(20, y=80))    "
   ]
  },
  {
   "cell_type": "code",
   "execution_count": 81,
   "metadata": {},
   "outputs": [
    {
     "name": "stdout",
     "output_type": "stream",
     "text": [
      "(1, 2, 3, 4, 5)\n"
     ]
    },
    {
     "data": {
      "text/plain": [
       "15"
      ]
     },
     "execution_count": 81,
     "metadata": {},
     "output_type": "execute_result"
    }
   ],
   "source": [
    "'''가변 인자'''\n",
    "def var_args(*args):\n",
    "    print(args)\n",
    "    return sum(args)\n",
    "\n",
    "var_args(1, 2, 3, 4, 5)\n",
    "\n",
    "# 선언할 때: *args\n",
    "# 사용할 때: args => 튜플 형태\n",
    "# sum()의 매개변수로, list와 tuple이 들어갈 수 있는데 tuple이 들어갔으므로 계산이 되는 상태"
   ]
  },
  {
   "cell_type": "code",
   "execution_count": 83,
   "metadata": {},
   "outputs": [
    {
     "name": "stdout",
     "output_type": "stream",
     "text": [
      "a b c d e\n",
      "{'a': 1, 'b': 2, 'c': 3, 'd': 4, 'e': 5}\n"
     ]
    },
    {
     "data": {
      "text/plain": [
       "15"
      ]
     },
     "execution_count": 83,
     "metadata": {},
     "output_type": "execute_result"
    }
   ],
   "source": [
    "'''가변 키워드 인자'''\n",
    "def var_kwargs(**kwargs):\n",
    "    print(*kwargs) # key 값 출력\n",
    "    print(kwargs) # key:value 맵핑 값 출력\n",
    "    return sum([*kwargs.values()])\n",
    "\n",
    "var_kwargs(a=1, b=2, c=3, d=4, e=5)\n",
    "# sum()의 매개변수로, list와 tuple이 들어갈 수 있는데 dictionary 형태로 값이 들어가 있으니[_dict_]로 변환해서 sum하기"
   ]
  },
  {
   "cell_type": "markdown",
   "metadata": {},
   "source": [
    "# 1.4. 파이썬 클래스와 객체"
   ]
  },
  {
   "cell_type": "code",
   "execution_count": 99,
   "metadata": {},
   "outputs": [
    {
     "name": "stdout",
     "output_type": "stream",
     "text": [
      "김가영\n",
      "김가영\n",
      "23\n",
      "최웅\n",
      "최웅\n",
      "20\n",
      "<function Klass.__init__ at 0x000001FBA2F26280>\n",
      "None\n",
      "김윤영 18\n"
     ]
    }
   ],
   "source": [
    "'''클래스 사용법'''\n",
    "# object class를 상속받은 Klass에서는 age, name을 입력받고, getName()과 getAge()메서드를 가지고 있음.\n",
    "class Klass(object):\n",
    "    \n",
    "    # init은 객체의 속성을 초기화 하는 역할임.\n",
    "    def __init__(self,age, name): # 메서드 정의(self 매개변수 사용)\n",
    "        self.name=name\n",
    "        self.age=age\n",
    "        \n",
    "    def getName(self): # 메서드 정의(self 매개변수 사용)\n",
    "        return self.name\n",
    "    \n",
    "    def getAge(self): # 메서드 정의(self 매개변수 사용)\n",
    "        return self.age\n",
    "\n",
    "# k 객체 생성   \n",
    "k=Klass(23, \"김가영\")\n",
    "print(k.name)\n",
    "print(k.getName())\n",
    "print(k.getAge())\n",
    "\n",
    "# n 객체 생성\n",
    "n=Klass(20, \"최웅\")\n",
    "print(n.name)\n",
    "print(n.getName())\n",
    "print(n.getAge())\n",
    "\n",
    "# 메서드 확인\n",
    "print(Klass.__init__)\n",
    "print(Klass.__init__(k, 18, '김윤영'))\n",
    "print(k.getName(), k.getAge())"
   ]
  },
  {
   "cell_type": "markdown",
   "metadata": {},
   "source": [
    "# 1.5. 파이썬 내장 숫자클래스"
   ]
  },
  {
   "cell_type": "code",
   "execution_count": 101,
   "metadata": {},
   "outputs": [
    {
     "name": "stdout",
     "output_type": "stream",
     "text": [
      "True\n",
      "True\n"
     ]
    }
   ],
   "source": [
    "x=1\n",
    "print(isinstance(x, int))\n",
    "y=1.1\n",
    "print(isinstance(y, float))"
   ]
  },
  {
   "cell_type": "code",
   "execution_count": 102,
   "metadata": {},
   "outputs": [
    {
     "name": "stdout",
     "output_type": "stream",
     "text": [
      "1.0\n"
     ]
    }
   ],
   "source": [
    "a=float(1)\n",
    "print(a)"
   ]
  },
  {
   "cell_type": "code",
   "execution_count": 103,
   "metadata": {},
   "outputs": [
    {
     "name": "stdout",
     "output_type": "stream",
     "text": [
      "1\n"
     ]
    }
   ],
   "source": [
    "b=int(a)\n",
    "print(b)"
   ]
  },
  {
   "cell_type": "code",
   "execution_count": 104,
   "metadata": {},
   "outputs": [
    {
     "data": {
      "text/plain": [
       "(1.1, 1)"
      ]
     },
     "execution_count": 104,
     "metadata": {},
     "output_type": "execute_result"
    }
   ],
   "source": [
    "float('1.1'), int('1')"
   ]
  },
  {
   "cell_type": "code",
   "execution_count": 108,
   "metadata": {},
   "outputs": [
    {
     "data": {
      "text/plain": [
       "False"
      ]
     },
     "execution_count": 108,
     "metadata": {},
     "output_type": "execute_result"
    }
   ],
   "source": [
    "# 문자열 내에 숫자만 존재하는지 확인\n",
    "'1.1'.isdigit()"
   ]
  },
  {
   "cell_type": "code",
   "execution_count": 110,
   "metadata": {},
   "outputs": [],
   "source": [
    "try:\n",
    "    int('11')\n",
    "except Exception as e:\n",
    "    print(e)"
   ]
  },
  {
   "cell_type": "markdown",
   "metadata": {},
   "source": [
    "# 1.6. 문자열"
   ]
  },
  {
   "cell_type": "code",
   "execution_count": 124,
   "metadata": {},
   "outputs": [],
   "source": [
    "s='happy' #유니코드 문자열\n",
    "b=b\"happy\" # 바이트 문자열은 영어와 숫자로만 구성, 쌍따옴표 앞에 b를 붙인다."
   ]
  },
  {
   "cell_type": "code",
   "execution_count": 125,
   "metadata": {},
   "outputs": [
    {
     "data": {
      "text/plain": [
       "(True, False)"
      ]
     },
     "execution_count": 125,
     "metadata": {},
     "output_type": "execute_result"
    }
   ],
   "source": [
    "isinstance(s, str), isinstance(s, bytes) #유니코드 문자열 O, 바이트 문자열 X"
   ]
  },
  {
   "cell_type": "code",
   "execution_count": 126,
   "metadata": {},
   "outputs": [
    {
     "data": {
      "text/plain": [
       "(True, False)"
      ]
     },
     "execution_count": 126,
     "metadata": {},
     "output_type": "execute_result"
    }
   ],
   "source": [
    "isinstance(b, bytes), isinstance(b, str) #유니코드 문자열 X, 바이트 문자열 O #유니코드 문자열을 암호화하면 바이트 문자열이 만들어짐\n"
   ]
  },
  {
   "cell_type": "code",
   "execution_count": 130,
   "metadata": {},
   "outputs": [
    {
     "data": {
      "text/plain": [
       "('h', 104)"
      ]
     },
     "execution_count": 130,
     "metadata": {},
     "output_type": "execute_result"
    }
   ],
   "source": [
    "s[0], b[0] # 바이트 문자열은 결과를 숫자로 반환"
   ]
  },
  {
   "cell_type": "code",
   "execution_count": 131,
   "metadata": {},
   "outputs": [
    {
     "data": {
      "text/plain": [
       "'h'"
      ]
     },
     "execution_count": 131,
     "metadata": {},
     "output_type": "execute_result"
    }
   ],
   "source": [
    "chr(b[0])"
   ]
  },
  {
   "cell_type": "code",
   "execution_count": 132,
   "metadata": {},
   "outputs": [
    {
     "data": {
      "text/plain": [
       "('y', 'y')"
      ]
     },
     "execution_count": 132,
     "metadata": {},
     "output_type": "execute_result"
    }
   ],
   "source": [
    "s[-1], chr(b[-1])"
   ]
  },
  {
   "cell_type": "code",
   "execution_count": 133,
   "metadata": {},
   "outputs": [
    {
     "name": "stdout",
     "output_type": "stream",
     "text": [
      "'str' object does not support item assignment\n"
     ]
    }
   ],
   "source": [
    "try:\n",
    "    s[0]=100\n",
    "except Exception as e:\n",
    "    print(e)"
   ]
  },
  {
   "cell_type": "code",
   "execution_count": 134,
   "metadata": {},
   "outputs": [
    {
     "name": "stdout",
     "output_type": "stream",
     "text": [
      "'bytes' object does not support item assignment\n"
     ]
    }
   ],
   "source": [
    "try:\n",
    "    b[0] = 100\n",
    "except Exception as e:\n",
    "    print(e)"
   ]
  },
  {
   "cell_type": "code",
   "execution_count": 135,
   "metadata": {},
   "outputs": [
    {
     "data": {
      "text/plain": [
       "True"
      ]
     },
     "execution_count": 135,
     "metadata": {},
     "output_type": "execute_result"
    }
   ],
   "source": [
    "bs = s.encode()\n",
    "isinstance(bs, bytes)"
   ]
  },
  {
   "cell_type": "code",
   "execution_count": 136,
   "metadata": {},
   "outputs": [
    {
     "data": {
      "text/plain": [
       "5"
      ]
     },
     "execution_count": 136,
     "metadata": {},
     "output_type": "execute_result"
    }
   ],
   "source": [
    "len(bs)"
   ]
  },
  {
   "cell_type": "code",
   "execution_count": 141,
   "metadata": {},
   "outputs": [],
   "source": [
    "bs=bs.decode()"
   ]
  },
  {
   "cell_type": "code",
   "execution_count": 142,
   "metadata": {},
   "outputs": [
    {
     "data": {
      "text/plain": [
       "True"
      ]
     },
     "execution_count": 142,
     "metadata": {},
     "output_type": "execute_result"
    }
   ],
   "source": [
    "isinstance(bs, str)"
   ]
  },
  {
   "cell_type": "markdown",
   "metadata": {},
   "source": [
    "# 1.7. 파이썬 리스트 클래스"
   ]
  },
  {
   "cell_type": "code",
   "execution_count": 163,
   "metadata": {},
   "outputs": [
    {
     "name": "stdout",
     "output_type": "stream",
     "text": [
      "공부 하기\n",
      "학교 가기\n"
     ]
    }
   ],
   "source": [
    "from abc import *\n",
    "\n",
    "# 추상 클래스는 파생 클래스가 반드시 구현해야하는 method를 @abstracmethod로 정의해줄 수 있음.\n",
    "# 추상클래스의 추상 메서드를 빈 메서드로 만드는 이유: 추상클래스는 인스턴스(객체, James)를 만들 수 없기 때문에!\n",
    "class StudentBase(metaclass=ABCMeta):\n",
    "    \n",
    "    @abstractmethod\n",
    "    def study(self):\n",
    "        pass\n",
    "    \n",
    "    @abstractmethod\n",
    "    def go_to_school(self):\n",
    "        pass\n",
    "    \n",
    "class Student(StudentBase):\n",
    "    \n",
    "    def study(self):\n",
    "        print('공부 하기')\n",
    "        \n",
    "    def go_to_school(self):\n",
    "        print('학교 가기')\n",
    "        \n",
    "james = Student()\n",
    "james.study()\n",
    "james.go_to_school()"
   ]
  },
  {
   "cell_type": "code",
   "execution_count": 169,
   "metadata": {},
   "outputs": [
    {
     "name": "stdout",
     "output_type": "stream",
     "text": [
      "frozenset({'__getitem__', '__len__'})\n",
      "frozenset({'__setitem__', '__getitem__', 'insert', '__len__', '__delitem__'})\n",
      "True\n",
      "False\n"
     ]
    }
   ],
   "source": [
    "import collections.abc as abc #자료구조에 대한 추상클래스 모듈 사용\n",
    "\n",
    "print(abc.Sequence.__abstractmethods__) #Sequence클래스에 대한 추상 메서드 확인\n",
    "print(abc.MutableSequence.__abstractmethods__) #mutableSequence클래스에 대한 추상 메서드 확인\n",
    "print(issubclass(list, abc.Sequence)) # list가 abc.Sequence의 하위클래스임\n",
    "print(issubclass(abc.Sequence, list)) # abc.Sequence가 list의 하위클래스가 아님"
   ]
  },
  {
   "cell_type": "code",
   "execution_count": 171,
   "metadata": {},
   "outputs": [
    {
     "name": "stdout",
     "output_type": "stream",
     "text": [
      "[1, 2, 3, 'a']\n"
     ]
    },
    {
     "data": {
      "text/plain": [
       "True"
      ]
     },
     "execution_count": 171,
     "metadata": {},
     "output_type": "execute_result"
    }
   ],
   "source": [
    "x=list((1, 2, 3, 'a'))\n",
    "print(x)\n",
    "isinstance(x, list)\n"
   ]
  },
  {
   "cell_type": "code",
   "execution_count": 172,
   "metadata": {},
   "outputs": [
    {
     "name": "stdout",
     "output_type": "stream",
     "text": [
      "1\n",
      "2\n",
      "3\n",
      "a\n"
     ]
    }
   ],
   "source": [
    "print(x[0])\n",
    "print(x[1])\n",
    "print(x[2])\n",
    "print(x[3])"
   ]
  },
  {
   "cell_type": "code",
   "execution_count": 173,
   "metadata": {},
   "outputs": [
    {
     "name": "stdout",
     "output_type": "stream",
     "text": [
      "list index out of range\n"
     ]
    }
   ],
   "source": [
    "try:\n",
    "    x[10]\n",
    "except Exception as e:\n",
    "    print(e)"
   ]
  },
  {
   "cell_type": "code",
   "execution_count": 178,
   "metadata": {},
   "outputs": [
    {
     "name": "stdout",
     "output_type": "stream",
     "text": [
      "4\n",
      "a\n"
     ]
    }
   ],
   "source": [
    "print(len(x))\n",
    "print(x[len(x)-1])"
   ]
  },
  {
   "cell_type": "code",
   "execution_count": 185,
   "metadata": {},
   "outputs": [
    {
     "name": "stdout",
     "output_type": "stream",
     "text": [
      "[1, 2, 3, 4, 10]\n",
      "[1, 2, 3, 4, 10, 2]\n"
     ]
    }
   ],
   "source": [
    "x=[1, 2, 3, 4]\n",
    "x.append(10)\n",
    "print(x)\n",
    "x.append( 2)\n",
    "print(x)"
   ]
  },
  {
   "cell_type": "code",
   "execution_count": 186,
   "metadata": {},
   "outputs": [
    {
     "name": "stdout",
     "output_type": "stream",
     "text": [
      "[1, 2, 3, 4, 5, 6, 7, 8]\n"
     ]
    }
   ],
   "source": [
    "x=[1, 2, 3, 4]\n",
    "x.extend([5, 6, 7, 8])\n",
    "print(x)"
   ]
  },
  {
   "cell_type": "code",
   "execution_count": 189,
   "metadata": {},
   "outputs": [
    {
     "name": "stdout",
     "output_type": "stream",
     "text": [
      "[1, 2, 3, 4, 6, 7, 8]\n"
     ]
    }
   ],
   "source": [
    "x.remove(5)\n",
    "print(x)"
   ]
  },
  {
   "cell_type": "code",
   "execution_count": 190,
   "metadata": {},
   "outputs": [
    {
     "name": "stdout",
     "output_type": "stream",
     "text": [
      "[1, 2, 3, 4, 6, 7]\n"
     ]
    }
   ],
   "source": [
    "x.pop()\n",
    "print(x)"
   ]
  },
  {
   "cell_type": "code",
   "execution_count": 191,
   "metadata": {},
   "outputs": [
    {
     "name": "stdout",
     "output_type": "stream",
     "text": [
      "[100, 1, 2, 3, 4, 6, 7]\n"
     ]
    }
   ],
   "source": [
    "x.insert(0, 100) # 0번째 index에 100을 insert하기\n",
    "print(x)"
   ]
  },
  {
   "cell_type": "code",
   "execution_count": 195,
   "metadata": {},
   "outputs": [
    {
     "name": "stdout",
     "output_type": "stream",
     "text": [
      "[3, 4, 6, 7]\n"
     ]
    }
   ],
   "source": [
    "x.pop(0)\n",
    "print(x)"
   ]
  },
  {
   "cell_type": "code",
   "execution_count": 196,
   "metadata": {},
   "outputs": [],
   "source": [
    "x[0]=2948"
   ]
  },
  {
   "cell_type": "code",
   "execution_count": 198,
   "metadata": {},
   "outputs": [
    {
     "name": "stdout",
     "output_type": "stream",
     "text": [
      "[2948, 4, 6, 7]\n",
      "[4, 6, 7]\n"
     ]
    }
   ],
   "source": [
    "print(x)\n",
    "del x[0]\n",
    "print(x)"
   ]
  },
  {
   "cell_type": "code",
   "execution_count": 200,
   "metadata": {},
   "outputs": [
    {
     "name": "stdout",
     "output_type": "stream",
     "text": [
      "[4, 5, 6]\n"
     ]
    }
   ],
   "source": [
    "x = [1, 2, 3, 4, 5, 6]\n",
    "y = x[3:6] # x[3], x[4], x[5] 로 값을 초기화\n",
    "print(y)"
   ]
  },
  {
   "cell_type": "markdown",
   "metadata": {},
   "source": [
    "# 1.8. 배열(array)모듈의 배열"
   ]
  },
  {
   "cell_type": "code",
   "execution_count": 207,
   "metadata": {},
   "outputs": [],
   "source": [
    "# 배열을 만들려면 array 모듈을 import해야함\n",
    "import array"
   ]
  },
  {
   "cell_type": "code",
   "execution_count": 209,
   "metadata": {},
   "outputs": [
    {
     "name": "stdout",
     "output_type": "stream",
     "text": [
      "array('i', [1, 2, 3, 4, 5])\n",
      "<class 'array.array'>\n"
     ]
    }
   ],
   "source": [
    "a=array.array('i',[1, 2, 3, 4, 5])\n",
    "print(a)\n",
    "print(type(a))\n"
   ]
  },
  {
   "cell_type": "code",
   "execution_count": 210,
   "metadata": {},
   "outputs": [
    {
     "data": {
      "text/plain": [
       "False"
      ]
     },
     "execution_count": 210,
     "metadata": {},
     "output_type": "execute_result"
    }
   ],
   "source": [
    "import collections.abc as abc\n",
    "\n",
    "issubclass(type(a), abc.MutableSequence) # Sequence특징을 가졌지만 실제 구현은 추상 클래스의 모든 기능을 전부 구현하지는 않았음을 알 수 있음."
   ]
  },
  {
   "cell_type": "code",
   "execution_count": 213,
   "metadata": {},
   "outputs": [
    {
     "data": {
      "text/plain": [
       "('i', 4)"
      ]
     },
     "execution_count": 213,
     "metadata": {},
     "output_type": "execute_result"
    }
   ],
   "source": [
    "a.typecode, a.itemsize # 배ㅕㅇㄹ의 타입코드와 원소의 바이트 크기 확인 => array모듈에서만 사용할 수 있음."
   ]
  },
  {
   "cell_type": "code",
   "execution_count": 216,
   "metadata": {},
   "outputs": [
    {
     "data": {
      "text/plain": [
       "(2180283966224, 5)"
      ]
     },
     "execution_count": 216,
     "metadata": {},
     "output_type": "execute_result"
    }
   ],
   "source": [
    "a.buffer_info() # 배열의 레퍼런스 원소의 개수 확인"
   ]
  },
  {
   "cell_type": "code",
   "execution_count": 218,
   "metadata": {},
   "outputs": [
    {
     "data": {
      "text/plain": [
       "5"
      ]
     },
     "execution_count": 218,
     "metadata": {},
     "output_type": "execute_result"
    }
   ],
   "source": [
    "# 배열의 원소 검색 -> list와 동일\n",
    "a[0]\n",
    "a[-1]\n",
    "len(a)"
   ]
  },
  {
   "cell_type": "code",
   "execution_count": 220,
   "metadata": {},
   "outputs": [
    {
     "name": "stdout",
     "output_type": "stream",
     "text": [
      "array assignment index out of range\n"
     ]
    }
   ],
   "source": [
    "try:\n",
    "    a[5] = 100\n",
    "except Exception as e:\n",
    "    print(e)"
   ]
  },
  {
   "cell_type": "code",
   "execution_count": 221,
   "metadata": {},
   "outputs": [
    {
     "name": "stdout",
     "output_type": "stream",
     "text": [
      "array('i', [1, 2, 3, 4, 5, 100])\n"
     ]
    }
   ],
   "source": [
    "a.append(100)\n",
    "print(a)"
   ]
  },
  {
   "cell_type": "code",
   "execution_count": 225,
   "metadata": {},
   "outputs": [],
   "source": [
    "a.extend([6, 7, 8])\n",
    "b=a.tolist() #a 를 리스트로 변환"
   ]
  },
  {
   "cell_type": "code",
   "execution_count": 226,
   "metadata": {},
   "outputs": [
    {
     "data": {
      "text/plain": [
       "(array.array, list)"
      ]
     },
     "execution_count": 226,
     "metadata": {},
     "output_type": "execute_result"
    }
   ],
   "source": [
    "type(a), type(b)"
   ]
  },
  {
   "cell_type": "code",
   "execution_count": 228,
   "metadata": {},
   "outputs": [
    {
     "name": "stdout",
     "output_type": "stream",
     "text": [
      "b'\\x01\\x00\\x00\\x00\\x02\\x00\\x00\\x00\\x03\\x00\\x00\\x00\\x04\\x00\\x00\\x00\\x05\\x00\\x00\\x00d\\x00\\x00\\x00\\x06\\x00\\x00\\x00\\x07\\x00\\x00\\x00\\x08\\x00\\x00\\x00\\x06\\x00\\x00\\x00\\x07\\x00\\x00\\x00\\x08\\x00\\x00\\x00\\x06\\x00\\x00\\x00\\x07\\x00\\x00\\x00\\x08\\x00\\x00\\x00'\n",
      "4.0\n"
     ]
    }
   ],
   "source": [
    "ab=a.tobytes() #배열을 바이트로 변환!\n",
    "print(ab)\n",
    "print(len(ab)/len(a)) # 배열보다 4배의 길이임."
   ]
  },
  {
   "cell_type": "code",
   "execution_count": 230,
   "metadata": {},
   "outputs": [
    {
     "name": "stdout",
     "output_type": "stream",
     "text": [
      "array('i', [999, 1, 2, 3, 4, 5, 100, 6, 7, 8, 6, 7, 8, 6, 7, 8])\n",
      "array('i', [999, 999, 1, 2, 3, 4, 5, 100, 6, 7, 8, 6, 7, 8, 6, 7, 8])\n"
     ]
    }
   ],
   "source": [
    "print(a)\n",
    "a.insert(0, 999)\n",
    "print(a)"
   ]
  },
  {
   "cell_type": "code",
   "execution_count": 231,
   "metadata": {},
   "outputs": [
    {
     "name": "stdout",
     "output_type": "stream",
     "text": [
      "8\n",
      "8\n"
     ]
    }
   ],
   "source": [
    "print(a[-1])\n",
    "print(a.pop())"
   ]
  },
  {
   "cell_type": "code",
   "execution_count": 232,
   "metadata": {},
   "outputs": [
    {
     "name": "stdout",
     "output_type": "stream",
     "text": [
      "array('i', [999, 999, 1, 2, 3, 4, 5, 100, 6, 7, 8, 6, 7, 8, 6, 7])\n",
      "array('i', [999, 999, 1, 3, 4, 5, 100, 6, 7, 8, 6, 7, 8, 6, 7])\n"
     ]
    }
   ],
   "source": [
    "print(a)\n",
    "a.remove(2)\n",
    "print(a)"
   ]
  },
  {
   "cell_type": "code",
   "execution_count": 234,
   "metadata": {},
   "outputs": [
    {
     "name": "stdout",
     "output_type": "stream",
     "text": [
      "6\n",
      "0 2\n"
     ]
    }
   ],
   "source": [
    "print(a.index(100)) #100의 index가 무엇인지 확인하는 메서드\n",
    "print(a.index(999), a.count(999)) # 999의 index가 무엇인지, 999는 몇 개가 있는지 확인하는 메서드"
   ]
  },
  {
   "cell_type": "code",
   "execution_count": 235,
   "metadata": {},
   "outputs": [
    {
     "name": "stdout",
     "output_type": "stream",
     "text": [
      "array('i', [7, 6, 8, 7, 6, 8, 7, 6, 100, 5, 4, 3, 1, 999, 999])\n"
     ]
    }
   ],
   "source": [
    "a.reverse() #원소를 반대로 배열\n",
    "print(a)"
   ]
  },
  {
   "cell_type": "code",
   "execution_count": 236,
   "metadata": {},
   "outputs": [
    {
     "data": {
      "text/plain": [
       "array('i', [7, 6, 8, 7, 6, 8, 7, 6, 100, 5, 4, 3, 1, 999, 999, 7, 6, 8, 7, 6, 8, 7, 6, 100, 5, 4, 3, 1, 999, 999])"
      ]
     },
     "execution_count": 236,
     "metadata": {},
     "output_type": "execute_result"
    }
   ],
   "source": [
    "a+a"
   ]
  },
  {
   "cell_type": "code",
   "execution_count": 237,
   "metadata": {},
   "outputs": [
    {
     "data": {
      "text/plain": [
       "array('i', [7, 6, 8, 7, 6, 8, 7, 6, 100, 5, 4, 3, 1, 999, 999, 7, 6, 8, 7, 6, 8, 7, 6, 100, 5, 4, 3, 1, 999, 999])"
      ]
     },
     "execution_count": 237,
     "metadata": {},
     "output_type": "execute_result"
    }
   ],
   "source": [
    "a*2"
   ]
  },
  {
   "cell_type": "code",
   "execution_count": 238,
   "metadata": {},
   "outputs": [
    {
     "data": {
      "text/plain": [
       "[1, 2, 3, 1, 2, 3]"
      ]
     },
     "execution_count": 238,
     "metadata": {},
     "output_type": "execute_result"
    }
   ],
   "source": [
    "b=[1, 2, 3] # 리스트도 가능\n",
    "b+b"
   ]
  },
  {
   "cell_type": "markdown",
   "metadata": {},
   "source": [
    "# 1.9. 넘파이 모듈의 다차원 배열"
   ]
  },
  {
   "cell_type": "code",
   "execution_count": 239,
   "metadata": {},
   "outputs": [
    {
     "data": {
      "text/plain": [
       "'1.20.3'"
      ]
     },
     "execution_count": 239,
     "metadata": {},
     "output_type": "execute_result"
    }
   ],
   "source": [
    "import numpy as np\n",
    "np.__version__"
   ]
  },
  {
   "cell_type": "code",
   "execution_count": 240,
   "metadata": {},
   "outputs": [],
   "source": [
    "a=np.array([1, 2, 3, 4])"
   ]
  },
  {
   "cell_type": "code",
   "execution_count": 241,
   "metadata": {},
   "outputs": [
    {
     "data": {
      "text/plain": [
       "array([1, 2, 3, 4])"
      ]
     },
     "execution_count": 241,
     "metadata": {},
     "output_type": "execute_result"
    }
   ],
   "source": [
    "a"
   ]
  },
  {
   "cell_type": "code",
   "execution_count": 242,
   "metadata": {},
   "outputs": [
    {
     "name": "stdout",
     "output_type": "stream",
     "text": [
      "[1 2 3 4]\n"
     ]
    }
   ],
   "source": [
    "print(a) # 리스트와 달리 쉼표가 없이 출력됨."
   ]
  },
  {
   "cell_type": "code",
   "execution_count": 244,
   "metadata": {},
   "outputs": [
    {
     "data": {
      "text/plain": [
       "False"
      ]
     },
     "execution_count": 244,
     "metadata": {},
     "output_type": "execute_result"
    }
   ],
   "source": [
    "import collections.abc as abc\n",
    "issubclass(type(a), abc.MutableSequence)"
   ]
  },
  {
   "cell_type": "code",
   "execution_count": 245,
   "metadata": {},
   "outputs": [
    {
     "data": {
      "text/plain": [
       "0"
      ]
     },
     "execution_count": 245,
     "metadata": {},
     "output_type": "execute_result"
    }
   ],
   "source": [
    "abc.MutableSequence.__abstractmethods__\n",
    "dir(np.ndarray).count('insert')"
   ]
  },
  {
   "cell_type": "code",
   "execution_count": 250,
   "metadata": {},
   "outputs": [
    {
     "name": "stdout",
     "output_type": "stream",
     "text": [
      "int32\n",
      "2\n",
      "(2, 3)\n",
      "4\n",
      "<memory at 0x000001FBA30CE040>\n",
      "(12, 4)\n"
     ]
    }
   ],
   "source": [
    "# ndarray 클래스는 데이터와 메타정보를 분리해서 관리함\n",
    "# 메타벙보: dtype, ndim, shape, stides, data\n",
    "a=np.array([[1, 2, 3],[8, 9, 0]])\n",
    "print(a.dtype)\n",
    "print(a.ndim)\n",
    "print(a.shape)\n",
    "print(a.itemsize) # 원소 하나의 바이트 크기\n",
    "print(a.data) # 다차원 배열을 만들면 데이터는 메모리에 로딩되는데, 이 메모리를 관리하는 속성이 a.data이다.\n",
    "print(a.strides) # 확장 가능한 정도"
   ]
  },
  {
   "cell_type": "code",
   "execution_count": 251,
   "metadata": {},
   "outputs": [
    {
     "name": "stdout",
     "output_type": "stream",
     "text": [
      "[[1 2 3]\n",
      " [8 9 0]]\n",
      "[[1 2 3]\n",
      " [8 9 0]]\n"
     ]
    }
   ],
   "source": [
    "# 동일한 명령어\n",
    "print(a)\n",
    "print(a.data.obj)"
   ]
  },
  {
   "cell_type": "code",
   "execution_count": 252,
   "metadata": {},
   "outputs": [
    {
     "data": {
      "text/plain": [
       "array([[1, 2, 3],\n",
       "       [8, 9, 0]])"
      ]
     },
     "execution_count": 252,
     "metadata": {},
     "output_type": "execute_result"
    }
   ],
   "source": [
    "a.data.obj"
   ]
  },
  {
   "cell_type": "markdown",
   "metadata": {},
   "source": [
    "#### 다차원 배열의 자료형 처리"
   ]
  },
  {
   "cell_type": "code",
   "execution_count": 255,
   "metadata": {},
   "outputs": [
    {
     "name": "stdout",
     "output_type": "stream",
     "text": [
      "<class 'numpy.dtype[int32]'>\n"
     ]
    },
    {
     "data": {
      "text/plain": [
       "('l', 'i', 4)"
      ]
     },
     "execution_count": 255,
     "metadata": {},
     "output_type": "execute_result"
    }
   ],
   "source": [
    "happy = np.dtype(np.int32)\n",
    "print(type(happy))\n",
    "happy.char, happy.kind, happy.itemsize # happy에 들어가는 자료형 을 I와i로 저장하고 바이트 크기인 itemsize를 4를 저장한다."
   ]
  },
  {
   "cell_type": "code",
   "execution_count": null,
   "metadata": {},
   "outputs": [],
   "source": []
  }
 ],
 "metadata": {
  "interpreter": {
   "hash": "cfcfbbd76e88e95dc35e2ca9edf0c1e882d0553cc29bc4cac8c0f4eabeb0ecb9"
  },
  "kernelspec": {
   "display_name": "Python 3.10.1 64-bit",
   "language": "python",
   "name": "python3"
  },
  "language_info": {
   "codemirror_mode": {
    "name": "ipython",
    "version": 3
   },
   "file_extension": ".py",
   "mimetype": "text/x-python",
   "name": "python",
   "nbconvert_exporter": "python",
   "pygments_lexer": "ipython3",
   "version": "3.9.7"
  },
  "orig_nbformat": 4
 },
 "nbformat": 4,
 "nbformat_minor": 2
}
